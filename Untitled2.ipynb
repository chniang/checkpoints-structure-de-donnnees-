{
 "cells": [
  {
   "cell_type": "code",
   "execution_count": null,
   "id": "a6457444-309b-45aa-8ae3-5664d2897bd0",
   "metadata": {},
   "outputs": [],
   "source": [
    "#programme qui multiplie tout les elements de la liste\n",
    "ma_liste = [2,3,6]\n",
    "multiplication = ma_liste[0]*ma_liste[1]*ma_liste[2]\n",
    "print(multiplication)\n",
    "    \n",
    "    \n",
    "    "
   ]
  },
  {
   "cell_type": "code",
   "execution_count": 31,
   "id": "411ba2d8-43df-4c7e-a3c4-acefa54fbadf",
   "metadata": {},
   "outputs": [
    {
     "name": "stdout",
     "output_type": "stream",
     "text": [
      "Liste triée par le dernier élément de chaque tuple : [(2, 1), (1, 2), (2, 3), (4,), (4,), (2, 5)]\n"
     ]
    }
   ],
   "source": [
    "#programme pour obtenir une lisrte triee  par ordre croissant.\n",
    "#il sembles que la liste que vous aviez proposee ait des eurreurs\n",
    "#avec des tuples et des entiers dans la meme liste,ce qui va etre impossible de trier ca en python.\n",
    "#du coup je decide de corriger la liste en considerant tous les elements comme des tuples\n",
    "# Liste d'échantillons\n",
    "ma_liste = [(2, 5), (1, 2), (4,), (4,), (2, 3), (2, 1)]\n",
    "def obtenir_dernier_element(t):\n",
    "    return t[-1]\n",
    "liste_triee = sorted(ma_liste, key=obtenir_dernier_element)\n",
    "print(\"Liste triée par le dernier élément de chaque tuple :\", liste_triee)\n"
   ]
  },
  {
   "cell_type": "code",
   "execution_count": 60,
   "id": "426eec82-cf9e-4b8a-aa86-dd92152448f9",
   "metadata": {},
   "outputs": [
    {
     "name": "stdout",
     "output_type": "stream",
     "text": [
      "dictionnaire combine {'a': 400, 'b': 400, 'c': 300, 'd': 400}\n"
     ]
    }
   ],
   "source": [
    "#programme Python qui combine deux dictionnaires en ajoutant des valeurs pour les clés communes.\n",
    "d1 = {'a' : 100, 'b' : 200, 'c' :300}\n",
    "d2 = {'a' : 300, 'b' : 200, 'd' :400}\n",
    "d_combine = d1.copy()\n",
    "for key,value in d2.items():\n",
    "    if key in d_combine:\n",
    "        d_combine[key] = d_combine[key] + value\n",
    "    else:\n",
    "        d_combine[key] = value\n",
    "        print(\"dictionnaire combine\",d_combine)"
   ]
  },
  {
   "cell_type": "code",
   "execution_count": 26,
   "id": "d9a78208-9a55-450e-908d-833c6020a150",
   "metadata": {},
   "outputs": [
    {
     "name": "stdin",
     "output_type": "stream",
     "text": [
      "entrer un nombre entier 6\n"
     ]
    },
    {
     "name": "stdout",
     "output_type": "stream",
     "text": [
      "{1: 1, 2: 4, 3: 9, 4: 16, 5: 25, 6: 36}\n"
     ]
    }
   ],
   "source": [
    "#Avec un nombre entier donné n, écrivez un programme pour générer un dictionnaire qui contient (i, i*i)\n",
    "#de sorte que soit un nombre entier compris entre 1 et n (les deux inclus). \n",
    "#Ensuite, le programme devrait imprimer le dictionnaire. Supposons que l’entrée suivante soit fournie au programme : 8. \n",
    "#Ensuite, la sortie devrait être : {1 : 1, 2 : 4, 3 : 9, 4 : 16, 5 : 25, 6 : 36, 7 : 49, 8 : 64}\n",
    "\n",
    "n = int(input(\"entrer un nombre entier\"))\n",
    "my_dict = {}\n",
    "for i in range(1, n+1):\n",
    "    my_dict[i] = i*i\n",
    "print(my_dict)\n",
    "        \n",
    "    \n",
    "    \n",
    "\n",
    "\n"
   ]
  },
  {
   "cell_type": "code",
   "execution_count": 38,
   "id": "7b533c41-3ba7-40ec-be4c-cd885bf038ef",
   "metadata": {},
   "outputs": [
    {
     "name": "stdout",
     "output_type": "stream",
     "text": [
      "[('élément3', '24.5'), ('élément2', '15.10'), ('élément1', '12.20')]\n"
     ]
    }
   ],
   "source": [
    "#Écrivez un programme pour trier un tuple en fonction de son élément float.\n",
    "list= [('élément1', '12.20'), ('élément2', '15.10'), ('élément3', '24.5')]\n",
    "list.sort(reverse = True)\n",
    "print(list)\n"
   ]
  },
  {
   "cell_type": "code",
   "execution_count": 46,
   "id": "4fb9a94b-5e40-4195-86f3-3b73ec7a6924",
   "metadata": {},
   "outputs": [
    {
     "name": "stdout",
     "output_type": "stream",
     "text": [
      "Ensemble : {'mangue', 'pomme', 'orange', 'banane'}\n"
     ]
    }
   ],
   "source": [
    "# Créer un ensemble vide\n",
    "mon_ensemble.add(\"pomme\")\n",
    "mon_ensemble.add(\"banane\")\n",
    "mon_ensemble.add(\"orange\")\n",
    "print(\"Ensemble :\", mon_ensemble)\n"
   ]
  },
  {
   "cell_type": "code",
   "execution_count": 44,
   "id": "c71cb743-973c-42c4-8616-87e9530674cc",
   "metadata": {},
   "outputs": [
    {
     "name": "stdout",
     "output_type": "stream",
     "text": [
      "mangue\n",
      "pomme\n",
      "orange\n",
      "banane\n"
     ]
    }
   ],
   "source": [
    "#Écrire un programme Python pour l’itération sur des ensembles.\n",
    "mon_ensemble = {\"pomme\", \"banane\", \"orange\", \"mangue\"}\n",
    "for fruit in mon_ensemble:\n",
    "    print(fruit)\n"
   ]
  },
  {
   "cell_type": "code",
   "execution_count": 48,
   "id": "7569f4e6-98c2-4e2b-ba7f-395ef2e6a5b6",
   "metadata": {},
   "outputs": [
    {
     "name": "stdout",
     "output_type": "stream",
     "text": [
      "Ensemble initial : {'pomme', 'orange', 'banane'}\n",
      "Ensemble après ajout : {'orange', 'pomme', 'banane', 'mangue', 'kiwi'}\n",
      "Ensemble après suppression : {'pomme', 'mangue', 'kiwi'}\n"
     ]
    }
   ],
   "source": [
    "#Écrivez un programme Python pour ajouter des membres dans un ensemble\n",
    "#et pour supprimer des éléments d’un ensemble donné.\n",
    "mon_ensemble = {\"pomme\", \"banane\", \"orange\"}\n",
    "print(\"Ensemble initial :\", mon_ensemble)\n",
    "mon_ensemble.add(\"mangue\")\n",
    "mon_ensemble.add(\"kiwi\")\n",
    "print(\"Ensemble après ajout :\", mon_ensemble)\n",
    "mon_ensemble.discard(\"orange\") \n",
    "mon_ensemble.remove(\"banane\")   \n",
    "print(\"Ensemble après suppression :\", mon_ensemble)\n",
    "\n",
    " "
   ]
  },
  {
   "cell_type": "code",
   "execution_count": null,
   "id": "afb6f8ee-4724-4758-abb5-a04f0a3f7cf7",
   "metadata": {},
   "outputs": [],
   "source": []
  }
 ],
 "metadata": {
  "kernelspec": {
   "display_name": "Python 3 (ipykernel)",
   "language": "python",
   "name": "python3"
  },
  "language_info": {
   "codemirror_mode": {
    "name": "ipython",
    "version": 3
   },
   "file_extension": ".py",
   "mimetype": "text/x-python",
   "name": "python",
   "nbconvert_exporter": "python",
   "pygments_lexer": "ipython3",
   "version": "3.12.4"
  }
 },
 "nbformat": 4,
 "nbformat_minor": 5
}
